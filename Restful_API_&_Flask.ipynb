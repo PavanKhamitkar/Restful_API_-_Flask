{
  "nbformat": 4,
  "nbformat_minor": 0,
  "metadata": {
    "colab": {
      "provenance": []
    },
    "kernelspec": {
      "name": "python3",
      "display_name": "Python 3"
    },
    "language_info": {
      "name": "python"
    }
  },
  "cells": [
    {
      "cell_type": "markdown",
      "source": [
        "1. What is a RESTful API?\n",
        "  - An API that follows REST principles, using standard HTTP methods (GET, POST, etc.) to access and modify resources.\n",
        "2. Explain the concept of API specification.\n",
        "  - A document defining how the API works — endpoints, methods, request/response formats, and error codes (e.g., OpenAPI/Swagger).\n",
        "3. What is Flask, and why is it popular for building APIs?\n",
        "  - Flask is a lightweight Python web framework; popular because it's simple, flexible, and easy for building APIs quickly.\n",
        "4. What is routing in Flask?\n",
        "  - Routing maps URLs to Python functions, telling Flask which function to run for each URL.\n",
        "\n"
      ],
      "metadata": {
        "id": "94tD8JsUtF7I"
      }
    },
    {
      "cell_type": "code",
      "source": [
        "# 5.  How do you create a simple Flask application?\n",
        "\n",
        "from flask import Flask\n",
        "app = Flask(__name__)\n",
        "@app.route('/')\n",
        "def home():\n",
        "    return \"Hello, World!\"\n",
        "app.run()"
      ],
      "metadata": {
        "id": "zJMBBfEmuvKj"
      },
      "execution_count": 1,
      "outputs": []
    },
    {
      "cell_type": "markdown",
      "source": [
        "6. What are HTTP methods used in RESTful APIs?\n",
        "  - GET, POST, PUT, PATCH, DELETE, OPTIONS.\n",
        "7. What is the purpose of the @app.route() decorator in Flask?\n",
        "  - It binds a URL path to a view function.\n",
        "8. What is the difference between GET and POST HTTP methods?\n",
        "  - GET: retrieves data; POST: sends data to create or update resources.\n",
        "9. How do you handle errors in Flask APIs?\n",
        "  - Using `@app.errorhandler()` or `try-except` blocks to catch exceptions and return proper HTTP error codes.\n"
      ],
      "metadata": {
        "id": "RbN2lfA8vHTa"
      }
    },
    {
      "cell_type": "code",
      "source": [
        "# 10. How do you connect Flask to a SQL database?\n",
        "# - Using extensions like Flask-SQLAlchemy:\n",
        "\n",
        "app.config['SQLALCHEMY_DATABASE_URI'] = 'sqlite:///data.db'\n",
        "db = SQLAlchemy(app)\n"
      ],
      "metadata": {
        "id": "6jVDJM_Hu3k8"
      },
      "execution_count": null,
      "outputs": []
    },
    {
      "cell_type": "markdown",
      "source": [
        "11. What is the role of Flask-SQLAlchemy?\n",
        "  - Simplifies database operations in Flask using ORM (Object Relational Mapping).\n",
        "12. What are Flask blueprints, and how are they useful?\n",
        "  - They help organize large applications into smaller, reusable components/modules.\n",
        "13.  What is the purpose of Flask's request object?\n",
        "  - To access incoming request data: form data, JSON, headers, etc.\n",
        "\n"
      ],
      "metadata": {
        "id": "-Nfl653n7EKj"
      }
    },
    {
      "cell_type": "code",
      "source": [
        "# 14. How do you create a RESTful API endpoint using Flask?\n",
        "@app.route('/items/<int:id>', methods=['GET'])\n",
        "def get_item(id):\n",
        "    return jsonify({'id': id})"
      ],
      "metadata": {
        "id": "k9zIWuhn7w2F"
      },
      "execution_count": null,
      "outputs": []
    },
    {
      "cell_type": "markdown",
      "source": [
        "15. What is the purpose of Flask's `jsonify()` function?\n",
        "  - Converts Python dictionaries to JSON responses with correct headers.\n",
        "16. Explain Flask’s `url_for()` function.\n",
        "  - Generates URLs for view functions dynamically: `url_for('home')`\n",
        "17. How does Flask handle static files (CSS, JavaScript, etc.)?\n",
        "  - Stores them in the `/static/` directory; accessible via `/static/filename`.\n",
        "18. What is an API specification, and how does it help in building a Flask API?\n",
        "  - Defines API structure; helps developers understand how to interact with it and ensures consistency.\n",
        "19. What are HTTP status codes, and why are they important in a Flask API?\n",
        "  - Codes like 200, 404, 500 indicate request outcomes; help clients handle responses properly.\n",
        "\n",
        "\n"
      ],
      "metadata": {
        "id": "7ua5L4OC7ztm"
      }
    },
    {
      "cell_type": "code",
      "source": [
        "# 20. How do you handle POST requests in Flask?\n",
        "@app.route('/data', methods=['POST'])\n",
        "def create_data():\n",
        "    data = request.json\n",
        "    return jsonify(data), 201"
      ],
      "metadata": {
        "id": "Cs7vK6199HHc"
      },
      "execution_count": null,
      "outputs": []
    },
    {
      "cell_type": "markdown",
      "source": [
        "21. How would you secure a Flask API?\n",
        "  - Use HTTPS, authentication (JWT, OAuth), input validation, rate limiting, and CSRF protection.\n",
        "22. What is the significance of the Flask-RESTful extension?\n",
        "  - Simplifies building REST APIs by adding tools for request parsing, resource routing, and error handling.\n",
        "23. What is the role of Flask’s session object?\n",
        "  - Stores user-specific data across requests using secure cookies.\n"
      ],
      "metadata": {
        "id": "v8jWIEkz9J35"
      }
    },
    {
      "cell_type": "code",
      "source": [
        "# 1. How do you create a basic Flask application?\n",
        "\n",
        "from flask import Flask\n",
        "\n",
        "app = Flask(__name__)\n",
        "\n",
        "@app.route('/')\n",
        "def home():\n",
        "    return 'Hello, Flask!'\n",
        "\n",
        "if __name__ == '__main__':\n",
        "    app.run(debug=True)"
      ],
      "metadata": {
        "id": "ab-tRPNW_aCc"
      },
      "execution_count": 2,
      "outputs": []
    },
    {
      "cell_type": "code",
      "source": [
        "# 2. How do you serve static files like images or CSS in Flask?\n",
        "\n",
        "# - Put files in a folder named static/, e.g. static/style.css\n",
        "\n",
        "<link rel=\"stylesheet\" href=\"{{ url_for('static', filename='style.css') }}\">\n",
        "<img src=\"{{ url_for('static', filename='image.png') }}\" alt=\"Image\">\n"
      ],
      "metadata": {
        "id": "byHh614E_yB9"
      },
      "execution_count": null,
      "outputs": []
    },
    {
      "cell_type": "code",
      "source": [
        "# 3. How do you define different routes with different HTTP methods in Flask?\n",
        "\n",
        "from flask import request\n",
        "\n",
        "@app.route('/submit', methods=['GET', 'POST'])\n",
        "def submit():\n",
        "    if request.method == 'POST':\n",
        "        return 'Form submitted!'\n",
        "    return 'Submit form'\n"
      ],
      "metadata": {
        "id": "jCAaef_LAesP"
      },
      "execution_count": null,
      "outputs": []
    },
    {
      "cell_type": "code",
      "source": [
        "# 4. How do you render HTML templates in Flask?\n",
        "\n",
        "from flask import render_template\n",
        "\n",
        "@app.route('/about')\n",
        "def about():\n",
        "    return render_template('about.html')\n"
      ],
      "metadata": {
        "id": "6Ar2RUy9AqxB"
      },
      "execution_count": 3,
      "outputs": []
    },
    {
      "cell_type": "code",
      "source": [
        "# 5. How can you generate URLs for routes in Flask using url_for?\n",
        "\n",
        "from flask import url_for\n",
        "\n",
        "@app.route('/profile/<username>')\n",
        "def profile(username):\n",
        "    return f\"User: {username}\"\n",
        "\n",
        "@app.route('/link')\n",
        "def link():\n",
        "    return url_for('profile', username='pavan')\n"
      ],
      "metadata": {
        "id": "7S4BuwMJA3iP"
      },
      "execution_count": 4,
      "outputs": []
    },
    {
      "cell_type": "code",
      "source": [
        "# 6. How do you handle forms in Flask?\n",
        "\n",
        "@app.route('/login', methods=['POST'])\n",
        "def login():\n",
        "    username = request.form['username']\n",
        "    return f\"Logged in as {username}\"\n"
      ],
      "metadata": {
        "id": "THiG6mBfBAHX"
      },
      "execution_count": 5,
      "outputs": []
    },
    {
      "cell_type": "code",
      "source": [
        "# 7. How can you validate form data in Flask?\n",
        "\n",
        "@app.route('/register', methods=['POST'])\n",
        "def register():\n",
        "    username = request.form.get('username')\n",
        "    if not username:\n",
        "        return \"Username is required\", 400\n",
        "    return \"Registered successfully!\"\n"
      ],
      "metadata": {
        "id": "llqDydm4BQB6"
      },
      "execution_count": 6,
      "outputs": []
    },
    {
      "cell_type": "code",
      "source": [
        "# 8. How do you manage sessions in Flask?\n",
        "\n",
        "from flask import session\n",
        "\n",
        "app.secret_key = 'your_secret_key'\n",
        "\n",
        "@app.route('/set/')\n",
        "def set_session():\n",
        "    session['username'] = 'pavan'\n",
        "    return 'Session set'\n",
        "\n",
        "@app.route('/get/')\n",
        "def get_session():\n",
        "    return session.get('username', 'Not set')\n"
      ],
      "metadata": {
        "id": "gnB7M3ovBbUB"
      },
      "execution_count": 7,
      "outputs": []
    },
    {
      "cell_type": "code",
      "source": [
        "# 9. How do you redirect to a different route in Flask?\n",
        "\n",
        "from flask import redirect\n",
        "\n",
        "@app.route('/go-home')\n",
        "def go_home():\n",
        "    return redirect(url_for('home'))\n"
      ],
      "metadata": {
        "id": "7UDNLOioBjGS"
      },
      "execution_count": 8,
      "outputs": []
    },
    {
      "cell_type": "code",
      "source": [
        "# 10. How do you handle errors in Flask (e.g., 404)?\n",
        "\n",
        "@app.errorhandler(404)\n",
        "def page_not_found(e):\n",
        "    return \"Page not found\", 404\n"
      ],
      "metadata": {
        "id": "30rwghW8Brse"
      },
      "execution_count": 9,
      "outputs": []
    },
    {
      "cell_type": "code",
      "source": [
        "# 11.  How do you structure a Flask app using Blueprints?\n",
        "\n",
        "# In user.py file\n",
        "from flask import Blueprint\n",
        "\n",
        "user_bp = Blueprint('user', __name__)\n",
        "\n",
        "@user_bp.route('/user')\n",
        "def user_home():\n",
        "    return \"User Home\"\n",
        "\n",
        "# In main app.py file\n",
        "from flask import Flask\n",
        "from user import user_bp\n",
        "\n",
        "app = Flask(__name__)\n",
        "app.register_blueprint(user_bp)"
      ],
      "metadata": {
        "id": "gHNbC0DfCD7v"
      },
      "execution_count": null,
      "outputs": []
    },
    {
      "cell_type": "code",
      "source": [
        "# 12. How do you define a custom Jinja filter in Flask?\n",
        "\n",
        "@app.template_filter('reverse')\n",
        "def reverse_filter(s):\n",
        "    return s[::-1]\n",
        "\n",
        "# In template:\n",
        "{{ \"hello\"|reverse }}  <!-- Output: olleh -->\n"
      ],
      "metadata": {
        "id": "HtvDihTLCTYo"
      },
      "execution_count": null,
      "outputs": []
    },
    {
      "cell_type": "code",
      "source": [
        "# 13. How can you redirect with query parameters in Flask?\n",
        "\n",
        "@app.route('/search')\n",
        "def search():\n",
        "    return redirect(url_for('results', q='flask'))\n",
        "\n",
        "@app.route('/results')\n",
        "def results():\n",
        "    query = request.args.get('q')\n",
        "    return f\"Results for: {query}\""
      ],
      "metadata": {
        "id": "GYxlkMcYCdQc"
      },
      "execution_count": 10,
      "outputs": []
    },
    {
      "cell_type": "code",
      "source": [
        "# 14. How do you return JSON responses in Flask?\n",
        "\n",
        "from flask import jsonify\n",
        "\n",
        "@app.route('/data')\n",
        "def data():\n",
        "    return jsonify({'name': 'Pavan', 'age': 22})\n"
      ],
      "metadata": {
        "id": "h6FsukurCn-H"
      },
      "execution_count": 11,
      "outputs": []
    },
    {
      "cell_type": "code",
      "source": [
        "# 15. How do you capture URL parameters in Flask?\n",
        "\n",
        "@app.route('/item/<int:item_id>')\n",
        "def item(item_id):\n",
        "    return f\"Item ID: {item_id}\"\n"
      ],
      "metadata": {
        "id": "hlzi6-E3CuyW"
      },
      "execution_count": 12,
      "outputs": []
    },
    {
      "cell_type": "code",
      "source": [],
      "metadata": {
        "id": "T1cFdCVeC2IB"
      },
      "execution_count": null,
      "outputs": []
    }
  ]
}